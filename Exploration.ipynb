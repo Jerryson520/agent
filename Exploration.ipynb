{
 "cells": [
  {
   "cell_type": "code",
   "execution_count": null,
   "id": "87d5c59e",
   "metadata": {},
   "outputs": [],
   "source": [
    "import json\n",
    "import pandas as pd\n",
    "import requests"
   ]
  },
  {
   "cell_type": "code",
   "execution_count": null,
   "id": "7152e2ae",
   "metadata": {},
   "outputs": [],
   "source": [
    "with open('./data/metadata.jsonl', 'r', encoding='utf-8') as f:\n",
    "    lines = [json.loads(line) for line in f]"
   ]
  },
  {
   "cell_type": "code",
   "execution_count": null,
   "id": "3845d1b6",
   "metadata": {},
   "outputs": [],
   "source": [
    "df = pd.DataFrame(lines)\n",
    "df.head()"
   ]
  },
  {
   "cell_type": "code",
   "execution_count": null,
   "id": "c410223f",
   "metadata": {},
   "outputs": [],
   "source": [
    "df.query('Level == 1').head(10)"
   ]
  },
  {
   "cell_type": "code",
   "execution_count": null,
   "id": "21b737ed",
   "metadata": {},
   "outputs": [],
   "source": [
    "BASE_URL = \"https://agents-course-unit4-scoring.hf.space/\"\n",
    "r = requests.get(BASE_URL + \"/questions\")\n",
    "pd.DataFrame(r.json())"
   ]
  },
  {
   "cell_type": "code",
   "execution_count": null,
   "id": "2c56672f",
   "metadata": {},
   "outputs": [],
   "source": [
    "BASE_URL = \"https://agents-course-unit4-scoring.hf.space/\"\n",
    "r = requests.get(BASE_URL + \"/random-question\")\n",
    "r.json()\n"
   ]
  },
  {
   "cell_type": "code",
   "execution_count": null,
   "id": "cab89a20",
   "metadata": {},
   "outputs": [],
   "source": [
    "task_id = \"cca530fc-4052-43b2-b130-b30968d8aa44\"\n",
    "r = requests.get(BASE_URL + f\"/files/{task_id}\")\n",
    "\n",
    "r.headers\n",
    "with open('./image.png', 'wb') as f:\n",
    "    f.write(r.content)"
   ]
  },
  {
   "cell_type": "code",
   "execution_count": null,
   "id": "29a34748",
   "metadata": {},
   "outputs": [],
   "source": [
    "from PIL import Image\n",
    "img = Image.open(\"./image.png\")\n",
    "display(img)"
   ]
  }
 ],
 "metadata": {
  "kernelspec": {
   "display_name": "Python (.venv)",
   "language": "python",
   "name": ".venv"
  },
  "language_info": {
   "name": "python",
   "version": "3.9.23"
  }
 },
 "nbformat": 4,
 "nbformat_minor": 5
}
